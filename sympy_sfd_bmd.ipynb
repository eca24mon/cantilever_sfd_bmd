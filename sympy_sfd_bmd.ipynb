{
 "cells": [
  {
   "cell_type": "code",
   "execution_count": 1,
   "id": "a8a8929f-afd2-40f5-a650-6461e8585e80",
   "metadata": {},
   "outputs": [],
   "source": [
    "import sympy as sym\n",
    "\n"
   ]
  },
  {
   "cell_type": "code",
   "execution_count": 2,
   "id": "7c4acb13-0efc-4a0b-b022-934312be72ee",
   "metadata": {},
   "outputs": [],
   "source": [
    "a, b, c, x, tau = sym.symbols('a b c x tau', real=True)\n",
    "\n"
   ]
  },
  {
   "cell_type": "code",
   "execution_count": 3,
   "id": "1c3d53dd-b658-4299-9d1f-1246cdc2534c",
   "metadata": {},
   "outputs": [],
   "source": [
    "f = {\n",
    "    'const':a,\n",
    "    'linear':a * x + b,\n",
    "    'quadratic':a * x ** 2 + b * x + c,\n",
    "    'sinusoidal':a * sym.sin(x*b + c),\n",
    "    'exp':a * sym.exp(-x*b + c)\n",
    "}\n"
   ]
  },
  {
   "cell_type": "code",
   "execution_count": 4,
   "id": "a95c279d-c0ad-4039-829f-9e32d9bb823c",
   "metadata": {},
   "outputs": [
    {
     "name": "stdout",
     "output_type": "stream",
     "text": [
      "load ===================================\n",
      "a\n",
      "a\n",
      "sfd ------------------------------------\n",
      "a*x\n",
      "a*x\n",
      "bmd ------------------------------------\n",
      "a*x**2/2\n",
      "(1/2)*a*x**2\n",
      "load ===================================\n",
      "a*x + b\n",
      "a*x + b\n",
      "sfd ------------------------------------\n",
      "a*x**2/2 + b*x\n",
      "(1/2)*a*x**2 + b*x\n",
      "bmd ------------------------------------\n",
      "a*x**3/6 + b*x**2/2\n",
      "(1/6)*a*x**3 + (1/2)*b*x**2\n",
      "load ===================================\n",
      "a*x**2 + b*x + c\n",
      "a*x**2 + b*x + c\n",
      "sfd ------------------------------------\n",
      "a*x**3/3 + b*x**2/2 + c*x\n",
      "(1/3)*a*x**3 + (1/2)*b*x**2 + c*x\n",
      "bmd ------------------------------------\n",
      "a*x**4/12 + b*x**3/6 + c*x**2/2\n",
      "(1/12)*a*x**4 + (1/6)*b*x**3 + (1/2)*c*x**2\n",
      "load ===================================\n",
      "a*sin(b*x + c)\n",
      "a*math.sin(b*x + c)\n",
      "sfd ------------------------------------\n",
      "Piecewise((a*cos(c)/b - a*cos(b*x + c)/b, Ne(b, 0)), (a*x*sin(c), True))\n",
      "((a*math.cos(c)/b - a*math.cos(b*x + c)/b) if (b != 0) else (a*x*math.sin(c)))\n",
      "bmd ------------------------------------\n",
      "Piecewise((a*x*cos(c)/b + a*sin(c)/b**2 - a*sin(b*x + c)/b**2, Ne(b, 0)), (a*x**2*sin(c)/2, True))\n",
      "((a*x*math.cos(c)/b + a*math.sin(c)/b**2 - a*math.sin(b*x + c)/b**2) if (b != 0) else ((1/2)*a*x**2*math.sin(c)))\n",
      "load ===================================\n",
      "a*exp(-b*x + c)\n",
      "a*math.exp(-b*x + c)\n",
      "sfd ------------------------------------\n",
      "Piecewise((a*exp(c)/b - a*exp(-b*x + c)/b, Ne(b, 0)), (a*x, True))\n",
      "((a*math.exp(c)/b - a*math.exp(-b*x + c)/b) if (b != 0) else (a*x))\n",
      "bmd ------------------------------------\n",
      "Piecewise((a*x*exp(c)/b - a*exp(c)/b**2 + a*exp(-b*x + c)/b**2, Ne(b, 0)), (a*x**2/2, True))\n",
      "((a*x*math.exp(c)/b - a*math.exp(c)/b**2 + a*math.exp(-b*x + c)/b**2) if (b != 0) else ((1/2)*a*x**2))\n"
     ]
    }
   ],
   "source": [
    "for name, load in f.items():\n",
    "    print('load '.ljust(40, '='))\n",
    "    print(load)\n",
    "    print(sym.pycode(load))\n",
    "\n",
    "    print('sfd '.ljust(40, '-'))\n",
    "    sfd = sym.integrate(load.subs({x:tau}), (tau, 0, x))\n",
    "    print(sfd)\n",
    "    print(sym.pycode(sfd))\n",
    "\n",
    "    print('bmd '.ljust(40, '-'))\n",
    "    bmd = sym.integrate(sfd.subs({x:tau}), (tau, 0, x))\n",
    "    print(bmd)\n",
    "    print(sym.pycode(bmd))\n",
    "    \n",
    "\n"
   ]
  },
  {
   "cell_type": "code",
   "execution_count": 7,
   "id": "b3e5b957-6fd2-499f-856b-2e8483bc221c",
   "metadata": {},
   "outputs": [
    {
     "data": {
      "text/latex": [
       "$\\displaystyle \\begin{cases} \\frac{a \\cos{\\left(c \\right)}}{b} - \\frac{a \\cos{\\left(b x + c \\right)}}{b} & \\text{for}\\: b \\neq 0 \\\\a x \\sin{\\left(c \\right)} & \\text{otherwise} \\end{cases}$"
      ],
      "text/plain": [
       "Piecewise((a*cos(c)/b - a*cos(b*x + c)/b, Ne(b, 0)), (a*x*sin(c), True))"
      ]
     },
     "execution_count": 7,
     "metadata": {},
     "output_type": "execute_result"
    }
   ],
   "source": [
    "load = f['sinusoidal']\n",
    "sfd = sym.integrate(load.subs({x:tau}), (tau, 0, x))\n",
    "sfd"
   ]
  },
  {
   "cell_type": "code",
   "execution_count": 8,
   "id": "9389b3bf-9e12-48f0-86b1-8e600645da9c",
   "metadata": {},
   "outputs": [
    {
     "data": {
      "text/latex": [
       "$\\displaystyle \\begin{cases} \\frac{a x \\cos{\\left(c \\right)}}{b} + \\frac{a \\sin{\\left(c \\right)}}{b^{2}} - \\frac{a \\sin{\\left(b x + c \\right)}}{b^{2}} & \\text{for}\\: b \\neq 0 \\\\\\frac{a x^{2} \\sin{\\left(c \\right)}}{2} & \\text{otherwise} \\end{cases}$"
      ],
      "text/plain": [
       "Piecewise((a*x*cos(c)/b + a*sin(c)/b**2 - a*sin(b*x + c)/b**2, Ne(b, 0)), (a*x**2*sin(c)/2, True))"
      ]
     },
     "execution_count": 8,
     "metadata": {},
     "output_type": "execute_result"
    }
   ],
   "source": [
    "bmd = sym.integrate(sfd.subs({x:tau}), (tau, 0, x))\n",
    "bmd"
   ]
  },
  {
   "cell_type": "code",
   "execution_count": 5,
   "id": "35429851-fdc1-4f13-a768-3ecb01a8637b",
   "metadata": {},
   "outputs": [
    {
     "name": "stdout",
     "output_type": "stream",
     "text": [
      "@pytest.fixture\n",
      "def gen_case_const(a, b, c):\n",
      "    # load -----------------------------\n",
      "    def load(x):\n",
      "        return a\n",
      "    # sfd ------------------------------\n",
      "    def sfd(x):\n",
      "        return a*x\n",
      "    # bmd ------------------------------\n",
      "    def bmd(x):\n",
      "        return (1/2)*a*x**2\n",
      "    return load, sfd, bmd\n",
      "\n",
      "\n",
      "@pytest.fixture\n",
      "def gen_case_linear(a, b, c):\n",
      "    # load -----------------------------\n",
      "    def load(x):\n",
      "        return a*x + b\n",
      "    # sfd ------------------------------\n",
      "    def sfd(x):\n",
      "        return (1/2)*a*x**2 + b*x\n",
      "    # bmd ------------------------------\n",
      "    def bmd(x):\n",
      "        return (1/6)*a*x**3 + (1/2)*b*x**2\n",
      "    return load, sfd, bmd\n",
      "\n",
      "\n",
      "@pytest.fixture\n",
      "def gen_case_quadratic(a, b, c):\n",
      "    # load -----------------------------\n",
      "    def load(x):\n",
      "        return a*x**2 + b*x + c\n",
      "    # sfd ------------------------------\n",
      "    def sfd(x):\n",
      "        return (1/3)*a*x**3 + (1/2)*b*x**2 + c*x\n",
      "    # bmd ------------------------------\n",
      "    def bmd(x):\n",
      "        return (1/12)*a*x**4 + (1/6)*b*x**3 + (1/2)*c*x**2\n",
      "    return load, sfd, bmd\n",
      "\n",
      "\n",
      "@pytest.fixture\n",
      "def gen_case_sinusoidal(a, b, c):\n",
      "    # load -----------------------------\n",
      "    def load(x):\n",
      "        return a*np.sin(b*x + c)\n",
      "    # sfd ------------------------------\n",
      "    def sfd(x):\n",
      "        return ((a*np.cos(c)/b - a*np.cos(b*x + c)/b) if (b != 0) else (a*x*np.sin(c)))\n",
      "    # bmd ------------------------------\n",
      "    def bmd(x):\n",
      "        return ((a*x*np.cos(c)/b + a*np.sin(c)/b**2 - a*np.sin(b*x + c)/b**2) if (b != 0) else ((1/2)*a*x**2*np.sin(c)))\n",
      "    return load, sfd, bmd\n",
      "\n",
      "\n",
      "@pytest.fixture\n",
      "def gen_case_exp(a, b, c):\n",
      "    # load -----------------------------\n",
      "    def load(x):\n",
      "        return a*np.exp(-b*x + c)\n",
      "    # sfd ------------------------------\n",
      "    def sfd(x):\n",
      "        return ((a*np.exp(c)/b - a*np.exp(-b*x + c)/b) if (b != 0) else (a*x))\n",
      "    # bmd ------------------------------\n",
      "    def bmd(x):\n",
      "        return ((a*x*np.exp(c)/b - a*np.exp(c)/b**2 + a*np.exp(-b*x + c)/b**2) if (b != 0) else ((1/2)*a*x**2))\n",
      "    return load, sfd, bmd\n",
      "\n",
      "\n"
     ]
    }
   ],
   "source": [
    "for name, load in f.items():\n",
    "    print('@pytest.fixture')\n",
    "    print(f'def gen_case_{name}(a, b, c):')\n",
    "    print('    # load '.ljust(40, '-'))\n",
    "    print('    def load(x):')\n",
    "    print('        return', sym.pycode(load).replace('math.', 'np.'))\n",
    "\n",
    "    print('    # sfd '.ljust(40, '-'))\n",
    "    sfd = sym.integrate(load.subs({x:tau}), (tau, 0, x))\n",
    "    print('    def sfd(x):')\n",
    "    print('        return', sym.pycode(sfd).replace('math.', 'np.'))\n",
    "\n",
    "    print('    # bmd '.ljust(40, '-'))\n",
    "    bmd = sym.integrate(sfd.subs({x:tau}), (tau, 0, x))\n",
    "    print('    def bmd(x):')\n",
    "    print('        return', sym.pycode(bmd).replace('math.', 'np.'))\n",
    "\n",
    "    print('    return load, sfd, bmd\\n\\n')\n",
    "\n"
   ]
  },
  {
   "cell_type": "code",
   "execution_count": null,
   "id": "625093fa-f4d8-4bb1-a494-1ec396de02ad",
   "metadata": {},
   "outputs": [],
   "source": []
  }
 ],
 "metadata": {
  "kernelspec": {
   "display_name": "Python 3 (ipykernel)",
   "language": "python",
   "name": "python3"
  },
  "language_info": {
   "codemirror_mode": {
    "name": "ipython",
    "version": 3
   },
   "file_extension": ".py",
   "mimetype": "text/x-python",
   "name": "python",
   "nbconvert_exporter": "python",
   "pygments_lexer": "ipython3",
   "version": "3.10.0"
  }
 },
 "nbformat": 4,
 "nbformat_minor": 5
}
